{
 "cells": [
  {
   "cell_type": "markdown",
   "metadata": {
    "id": "fD4Qab2qYgOm"
   },
   "source": [
    "안녕하세요. 수강생 여러분~! \n",
    "\n",
    "Chapter01 ~ 13의 수업 내용을 바탕으로 아래 문제를 풀어주시면 됩니다 !\n",
    "\n",
    "지금까지 잘 해오셨으니까, 총 복습한다고 생각하시고 한번 도전해보세요 !!!\n",
    "\n",
    "\n",
    "<br>\n",
    "\n",
    "\n",
    "[**답변 입력 방법**]\n",
    "\n",
    "문제 아래에 있는 코드 입력창에 정답코드를 작성하신 후  __▷ 버튼을 클릭해 코드를 실행__ 해보세요<br>"
   ]
  },
  {
   "cell_type": "markdown",
   "metadata": {},
   "source": [
    "---"
   ]
  },
  {
   "cell_type": "markdown",
   "metadata": {},
   "source": [
    "### 프로젝트: 간단한 ATM 관리 시스템\n",
    "<br>\n",
    "\n",
    "__[문제 1: 잔액 확인]__\n",
    "\n",
    "현재 잔액은 1000원입니다. 현재 잔액을 출력하세요. \n",
    "\n",
    "(변수명 예시 : 잔액 - balance)"
   ]
  },
  {
   "cell_type": "code",
   "execution_count": null,
   "metadata": {},
   "outputs": [
    {
     "name": "stdout",
     "output_type": "stream",
     "text": [
      "Balance: 1,000 Won\n"
     ]
    }
   ],
   "source": [
    "balacne = 1000\n",
    "\n",
    "def MoneyExpressionMachine (balance):\n",
    "    print(f'Balance: ' \"{:,}\".format(balacne) + ' Won')   #Split for Str, Format for Int\n",
    "    #return Expression_balance\n",
    "\n",
    "MoneyExpressionMachine(balacne)"
   ]
  },
  {
   "cell_type": "markdown",
   "metadata": {},
   "source": [
    "__[문제 2: 입금]__\n",
    "\n",
    "가지고 있는 돈을 입금합니다.\n",
    "\n",
    "입금 금액을 입력받고, 잔액을 갱신한 후 새로운 잔액을 출력하세요. 입금 거래를 영수증 리스트에 기록하세요.\n",
    "\n",
    "- 입금 금액은 input()을 이용해 받습니다.\n",
    "- 영수증은 list()로 선언합니다.\n",
    "- 영수증에 들어가는 정보는 튜플 형태입니다.\n",
    "- 튜플에 담기는 정보는 (입금 or 출금, 입금 or 출금 금액, 현재 잔액)순 입니다.\n",
    "\n",
    "(변수명 예시: 영수증 리스트 - receipts, 입금 금액 - deposit_amount)\n"
   ]
  },
  {
   "cell_type": "code",
   "execution_count": null,
   "metadata": {},
   "outputs": [],
   "source": [
    "Accounts = 500000\n",
    "receipts = []\n",
    "receipts_contents = []\n",
    "\n",
    "def receipts_Machine(Option, Amounts, Current_Amounts):\n",
    "    global receipts_contents\n",
    "    receipts_items = (Option, Amounts, Current_Amounts)\n",
    "    receipts.append(receipts_items)\n",
    "    print(f\"\\nReceipts: \\n------------ \\n{Option} \\n{Amounts:,} \\n{Current_Amounts:,} \\n\")\n",
    "    rc = (f\"{Option} \\n{Amounts:,} \\n{Current_Amounts:,} \\n\")\n",
    "    receipts_contents.append(rc)\n",
    "    receipts_check_machine(rc)\n",
    "    return \n",
    "\n",
    "def receipts_check_machine(rc) : #receipts contents \n",
    "    global receipts_contents\n",
    "    Question = input(f\"Do You need All Receipts? (Y/N): \")\n",
    "    if Question in (\"Y\", \"y\"):\n",
    "        print(f\"\\nReceipts History \\n============ \")\n",
    "        for i in receipts_contents :\n",
    "            print(i)\n",
    "    elif Question in (\"N\", \"n\"):\n",
    "        print(\"OK BYE\")\n",
    "    else:\n",
    "        print(\"Please enter Correct answer\")\n",
    "    return Bank_Machine() \n",
    "\n",
    "def Deposit_Machine(): \n",
    "    global Accounts\n",
    "    Amounts = int(input(f'Your Accounts: {Accounts:,} \\nPlease Input Amounts: '))\n",
    "    print(f\"\\nAmounts that you deposit: {Amounts:,}\")\n",
    "    Answer = input(f\"\\nAre You Sure? (Y/N): \")\n",
    "    Option = \"Deposit\"\n",
    "\n",
    "    if Answer in (\"Y\", \"y\"):\n",
    "        Accounts += Amounts\n",
    "        print(f\"Current Amounts: {Accounts:,}\")\n",
    "        RQ = input(f\"Do you need a Receipts? (Y/N): \")\n",
    "        if RQ in (\"Y\", \"y\"):\n",
    "            receipts_Machine(Option, Amounts, Accounts)\n",
    "        elif RQ in (\"N\", \"n\"):\n",
    "            print(\"You rejected Receipts.\")\n",
    "        else:\n",
    "            print(\"Please enter Correct Answer.\")\n",
    "\n",
    "    elif Answer in (\"N\", \"n\"):\n",
    "        print(\"You canceled Transaction.\")\n",
    "    else:\n",
    "        print(\"Please input Correct Answer.\")\n",
    "\n",
    "def Withdraw_Machine():\n",
    "    global Accounts\n",
    "    Amounts = int(input(f'Your Accounts: {Accounts:,} \\nPlease Input Amounts: '))\n",
    "    print(f\"\\nAmounts that you Withdraw: {Amounts:,}\")\n",
    "    Answer = input(f\"\\nAre You Sure? (Y/N): \")\n",
    "    Option = \"Withdraw\"\n",
    "\n",
    "    if Answer in (\"Y\", \"y\"):\n",
    "        if Accounts >= Amounts:\n",
    "            Accounts -= Amounts\n",
    "            print(f\"Current Amounts: {Accounts:,}\")\n",
    "            RQ = input(f\"Do you need a Receipts? (Y/N): \")\n",
    "            if RQ in (\"Y\", \"y\"):\n",
    "                receipts_Machine(Option, Amounts, Accounts)\n",
    "            elif RQ in (\"N\", \"n\"):\n",
    "                print(\"You rejected Receipts.\")\n",
    "            else:\n",
    "                print(\"Please enter Correct Answer.\")\n",
    "        else:\n",
    "            print(\"Insufficient Balance.\")\n",
    "\n",
    "    elif Answer in (\"N\", \"n\"):\n",
    "        print(\"You canceled Transaction.\")\n",
    "    else:\n",
    "        print(\"Please input Correct Answer.\")\n",
    "\n",
    "def Bank_Machine():\n",
    "    option = input(f\"Deposit or Withdraw? (D/W): \")\n",
    "    if option in (\"D\", \"d\"):\n",
    "        Deposit_Machine()\n",
    "    elif option in (\"W\", \"w\"):\n",
    "        Withdraw_Machine()\n",
    "    else:\n",
    "        print(\"Please enter Correct Answer\")\n",
    "    return Bank_Machine() \n",
    " \n",
    "Bank_Machine()\n",
    "\n",
    "#아 이게 영수증 발급 안해도 영수증 이력 남기게끔 해야하는데 시간 없어서 앋뇌겠당"
   ]
  },
  {
   "cell_type": "markdown",
   "metadata": {},
   "source": [
    "__[문제 3: 출금]__\n",
    "\n",
    "사용자가 돈을 출금합니다. 출금 금액을 입력받고, 잔액을 갱신한 후 새로운 잔액을 출력하세요. 출금 거래를 영수증 리스트에 기록하세요. \n",
    "\n",
    "- 출금 금액은 input()을 이용해 받습니다.\n",
    "- 현재 잔액보다 출금 요청 금액이 많을 경우 현재 잔액 만큼만 출금되도록 합니다.\n",
    "- 영수증에 들어가는 정보는 튜플 형태입니다.\n",
    "- 튜플에 담기는 정보는 (입금 or 출금, 입금 or 출금 금액, 현재 잔액)순 입니다.\n",
    "\n",
    "(변수명 예시: 출금금액 - withdraw_amount)"
   ]
  },
  {
   "cell_type": "code",
   "execution_count": null,
   "metadata": {},
   "outputs": [],
   "source": []
  },
  {
   "cell_type": "markdown",
   "metadata": {},
   "source": [
    "__[문제 4: 모든 거래 내역 확인]__\n",
    "\n",
    "모든 거래 내역(영수증)을 요청받았을 때 출력하세요.\n",
    "- 지금까지 영수증에 추가된 정보를 출력합니다.\n",
    "- 출력 형태는 자유입니다."
   ]
  },
  {
   "cell_type": "code",
   "execution_count": null,
   "metadata": {},
   "outputs": [],
   "source": []
  }
 ],
 "metadata": {
  "colab": {
   "authorship_tag": "ABX9TyOA/CeX7CUdbTKFxV0fsocV",
   "provenance": []
  },
  "kernelspec": {
   "display_name": "Python 3",
   "name": "python3"
  },
  "language_info": {
   "codemirror_mode": {
    "name": "ipython",
    "version": 3
   },
   "file_extension": ".py",
   "mimetype": "text/x-python",
   "name": "python",
   "nbconvert_exporter": "python",
   "pygments_lexer": "ipython3",
   "version": "3.12.6"
  }
 },
 "nbformat": 4,
 "nbformat_minor": 0
}
