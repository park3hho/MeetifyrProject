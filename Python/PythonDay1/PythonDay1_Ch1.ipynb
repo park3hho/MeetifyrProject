{
 "cells": [
  {
   "cell_type": "markdown",
   "metadata": {},
   "source": [
    "<span style=\"font-size:100%\">\n",
    "\n",
    "수업은 모두 열심히 들으셨나요?\n",
    "\n",
    "간혹 강의에서 언급되지 않은 내용이 문제로 나올 수 있습니다.<br>\n",
    "그럴땐 강의 내용 외 문제는 구글링을 통해 해결해주세요<br></span>\n",
    "<span style=\"font-size:80%\">\n",
    "(구글링 또한 개발자가 갖쳐야할 역량 중에 하나랍니다 😊)\n",
    "</span>\n",
    "\n",
    "---"
   ]
  },
  {
   "cell_type": "markdown",
   "metadata": {},
   "source": [
    "<span style=\"font-size:80%\">[문제1]<br><br></span>\n",
    "```인터프리트 방식에 대해 설명하고 2개 이상의 장점을 설명해주세요```"
   ]
  },
  {
   "cell_type": "markdown",
   "metadata": {},
   "source": [
    "<span style=\"color:red\">답변</span>"
   ]
  },
  {
   "cell_type": "markdown",
   "metadata": {},
   "source": [
    "인터프리트 > 인간친화적, 느림, 동적임, 유연함\n",
    "컴파일 > 기계어에 가까움, 빠름, 정적임, 엄격함"
   ]
  },
  {
   "cell_type": "markdown",
   "metadata": {},
   "source": [
    "---"
   ]
  },
  {
   "cell_type": "markdown",
   "metadata": {},
   "source": [
    "<span style=\"font-size:80%\">[문제2]<br><br></span>\n",
    "```동적 타입 방식의 장점과 단점을 간략히 설명해주세요```"
   ]
  },
  {
   "cell_type": "markdown",
   "metadata": {},
   "source": [
    "<span style=\"color:red\">답변</span>"
   ]
  },
  {
   "cell_type": "markdown",
   "metadata": {},
   "source": [
    "유연하지만 느리다."
   ]
  },
  {
   "cell_type": "markdown",
   "metadata": {},
   "source": [
    "---"
   ]
  },
  {
   "cell_type": "markdown",
   "metadata": {},
   "source": [
    "<span style=\"font-size:80%\">[문제3]<br><br></span>\n",
    "```Python으로 정적타입 방식의 코드를 작성할 수 있는 방법을 구글링을 통해 검색 후 설명해주세요```"
   ]
  },
  {
   "cell_type": "markdown",
   "metadata": {},
   "source": [
    "<span style=\"color:red\">답변</span>"
   ]
  },
  {
   "cell_type": "markdown",
   "metadata": {},
   "source": [
    "typehint를 사용하여 함수 내에서 변수 값에 대해 타입을 선언할 수 있다. \n",
    "자바스크립트와 타입스크립트의 차이 정도이지 않을까?"
   ]
  },
  {
   "cell_type": "markdown",
   "metadata": {},
   "source": [
    "---"
   ]
  },
  {
   "cell_type": "markdown",
   "metadata": {},
   "source": [
    "<span style=\"font-size:80%\">[문제4]<br><br></span>\n",
    "```프로세스와 스레드의 차이점을 설명해주세요```"
   ]
  },
  {
   "cell_type": "markdown",
   "metadata": {},
   "source": [
    "<span style=\"color:red\">답변</span>"
   ]
  },
  {
   "cell_type": "markdown",
   "metadata": {},
   "source": [
    "운영체제에서 할당한 자원을 사용하는 작업의 단위 -> 프로세스\n",
    "프로세스가 할당받은 자원을 이용하는 실행의 단위 -> 스레드\n",
    "\n",
    "프로세스는 할당된 메모리 외의 정보에 접근하려고 하면 오류가 발생한다. (운영체제가 안정성을 위해 할당된 메모리 안에서만 작업이 가능하도록 제약을 둠.)\n",
    "스레드는 다른 스레드들과 공유가 가능하며, 중복성을 최소화하여 자원 관리의 중복성을 최소화 하여 실행된다.\n",
    "\n",
    "*병렬성과 동시성\n",
    "\n",
    "\n"
   ]
  },
  {
   "cell_type": "markdown",
   "metadata": {},
   "source": [
    "---"
   ]
  },
  {
   "cell_type": "markdown",
   "metadata": {},
   "source": [
    "<span style=\"font-size:80%\">[문제5]<br><br></span>\n",
    "```Python 2버전대와 3버전대의 차이를 성명해주세요```"
   ]
  },
  {
   "cell_type": "markdown",
   "metadata": {},
   "source": [
    "<span style=\"color:red\">답변</span>"
   ]
  },
  {
   "cell_type": "markdown",
   "metadata": {},
   "source": [
    "-      Python3 부터는 모든 변수가 객체(Object)로 처리된다.\n",
    "\n",
    "-      Python3 에서는 xrange를 지원하지 않는다. Python2 의 xrange는 정해진 숫자만큼 object를 생성하는 lazy process 방식이고 looping 동작에서 memory efficient 를 갖는다. 그러나 3부터는 모두 range를 사용하며 대체가 불가능하다.\n",
    "\n",
    "-      Python3 에서 연산은 자동 타입할당이 제공된다. (정수와 정수를 나누기하면 자동으로 값은 실수로 타입이 할당된다. 디버깅 시 주의.)\n",
    "\n",
    "-      Python3 에서 print 문은 함수로써 동작하므로 괄호가 필수이다."
   ]
  },
  {
   "cell_type": "markdown",
   "metadata": {},
   "source": [
    "---"
   ]
  },
  {
   "cell_type": "markdown",
   "metadata": {},
   "source": [
    "<span style=\"font-size:80%\">[문제6]<br><br></span>\n",
    "```Python에서 메모리 관리는 어떻게 이루어지는지 설명해주세요```"
   ]
  },
  {
   "cell_type": "markdown",
   "metadata": {},
   "source": [
    "<span style=\"color:red\">답변</span>"
   ]
  },
  {
   "cell_type": "code",
   "execution_count": null,
   "metadata": {},
   "outputs": [],
   "source": [
    "자동 메모리 관리하는 고급 프로그래밍 언어이다.\n",
    "\n",
    "Reference_counting(참조 계수) 기반으로 이루어진다.\n",
    "Referencd_counting이란?\n",
    "Object가 생성될 때마다 Object를 참조하는 변수의 개수를 추적하는 방식이다. \n",
    "Object의 변수의 개수가 0개가 되면, 해당 Object의 메모리는 자동으로 해제된다.\n",
    "\n",
    "단점.\n",
    "Circular_reference(순환 참조)와 같은 특정한 상황에서는 memoryleak을 발생시킬 수 있다. \n",
    "Circular_reference란?\n",
    "두개 이상의 Object가 서로 참조하는 상황. 이러한 상황은 Object가 더 이상 사용하지 않더라도  \n",
    "Reference_counting이 0이 되지 않아 메모리를 지속적으로 사용한다. (memory_leak)\n",
    "\n",
    "해결책.\n",
    "1. Garbage_Collection을 사용한다. \n",
    "2. 순환 참조가 되지 않는 코드를 작성한다."
   ]
  }
 ],
 "metadata": {
  "kernelspec": {
   "display_name": "Python 3",
   "language": "python",
   "name": "python3"
  },
  "language_info": {
   "codemirror_mode": {
    "name": "ipython",
    "version": 3
   },
   "file_extension": ".py",
   "mimetype": "text/x-python",
   "name": "python",
   "nbconvert_exporter": "python",
   "pygments_lexer": "ipython3",
   "version": "3.12.6"
  }
 },
 "nbformat": 4,
 "nbformat_minor": 2
}
