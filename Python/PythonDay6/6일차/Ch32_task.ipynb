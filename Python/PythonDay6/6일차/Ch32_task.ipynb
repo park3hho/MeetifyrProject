{
 "cells": [
  {
   "cell_type": "markdown",
   "metadata": {},
   "source": [
    "두 문자열을 받아서 긴 문자열을 반환하는 함수 longer_string을 작성하세요. 만약 두 문자열의 길이가 같다면, 첫 번째 문자열을 반환하세요."
   ]
  },
  {
   "cell_type": "code",
   "execution_count": 3,
   "metadata": {},
   "outputs": [
    {
     "name": "stdout",
     "output_type": "stream",
     "text": [
      "16\n"
     ]
    }
   ],
   "source": [
    "a = \"asdfasdfasdfadsf\"\n",
    "b = \"asdfasdfdsf\"\n",
    "\n",
    "def aa (ab: list, bb: list):\n",
    "    cc = int(len(ab))\n",
    "    dd = int(len(bb))\n",
    "    if cc > dd:\n",
    "        print(cc)\n",
    "    elif cc == dd:\n",
    "        print(\"SAMElength\")\n",
    "    else:\n",
    "        print(dd)\n",
    "\n",
    "aa(a,b)"
   ]
  }
 ],
 "metadata": {
  "kernelspec": {
   "display_name": "Python 3",
   "language": "python",
   "name": "python3"
  },
  "language_info": {
   "codemirror_mode": {
    "name": "ipython",
    "version": 3
   },
   "file_extension": ".py",
   "mimetype": "text/x-python",
   "name": "python",
   "nbconvert_exporter": "python",
   "pygments_lexer": "ipython3",
   "version": "3.12.6"
  }
 },
 "nbformat": 4,
 "nbformat_minor": 2
}
