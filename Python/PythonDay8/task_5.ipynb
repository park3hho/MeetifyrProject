{
 "cells": [
  {
   "cell_type": "markdown",
   "metadata": {},
   "source": [
    "[문제]\n",
    "\n",
    "'Account' 클래스를 작성하세요. \n",
    "\n",
    "이 클래스는 소유자(owner)와 잔액(balance)을 속성으로 가지며, 잔액은 프라이빗 변수로 선언합니다. \n",
    "\n",
    "'deposit'와 'withdraw' 두 개의 메소드를 통해 잔액을 조작할 수 있도록 하세요. \n",
    "\n",
    "이 때, 잔액은 음수가 될 수 없도록 체크해야 합니다. 'Account' 객체를 생성하고,<br>\n",
    "입금 및 출금 작업을 시뮬레이션한 후, 최종 잔액을 출력하세요."
   ]
  },
  {
   "cell_type": "code",
   "execution_count": null,
   "metadata": {},
   "outputs": [
    {
     "name": "stdout",
     "output_type": "stream",
     "text": [
      "a: 30000\n"
     ]
    }
   ],
   "source": [
    "class Account:\n",
    "\n",
    "    B_A = [] #BankAccount\n",
    "\n",
    "    def __init__(self,owner,balance: int):\n",
    "        self.owner = owner\n",
    "        self.balance = int(balance)\n",
    "        Account.B_A.append(self)\n",
    "        pass\n",
    "\n",
    "    def __str__ (self):\n",
    "        return f'{self.owner}: {self.balance}'\n",
    "\n",
    "    def Deposit (self):\n",
    "        Deposit = int(input(\"How much Deposit?: \"))\n",
    "        if Deposit > 0 :\n",
    "            self.balance = self.balance + Deposit\n",
    "            print(self.balance)\n",
    "        else:\n",
    "            print(\"Insert More than 0\")\n",
    "            return None\n",
    "\n",
    "    def Withdraw (self):\n",
    "        Withdraw = int(input(\"How much Deposit?: \"))\n",
    "        if self.balance > Withdraw : \n",
    "            self.balance = self.balance - Withdraw\n",
    "        else :\n",
    "            print(\"Insert less than balance\")\n",
    "            return None\n",
    "\n",
    "a = Account(\"a\",30000)\n",
    "print(a)\n",
    "a.Deposit()"
   ]
  }
 ],
 "metadata": {
  "kernelspec": {
   "display_name": "Python 3",
   "language": "python",
   "name": "python3"
  },
  "language_info": {
   "codemirror_mode": {
    "name": "ipython",
    "version": 3
   },
   "file_extension": ".py",
   "mimetype": "text/x-python",
   "name": "python",
   "nbconvert_exporter": "python",
   "pygments_lexer": "ipython3",
   "version": "3.12.6"
  }
 },
 "nbformat": 4,
 "nbformat_minor": 2
}
