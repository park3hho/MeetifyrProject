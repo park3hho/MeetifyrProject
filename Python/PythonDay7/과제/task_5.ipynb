{
 "cells": [
  {
   "cell_type": "markdown",
   "metadata": {},
   "source": [
    "datetime 모듈을 사용하여 현재 날짜와 시간을 출력하는 프로그램을 작성하세요. \n",
    "\n",
    "또한, 사용자로부터 태어난 년도를 입력받아 현재 나이를 계산하여 출력하세요."
   ]
  },
  {
   "cell_type": "code",
   "execution_count": null,
   "metadata": {
    "vscode": {
     "languageId": "plaintext"
    }
   },
   "outputs": [],
   "source": [
    "import datetime\n",
    "\n",
    "def age_calculator():\n",
    "    # 현재 날짜 및 시간\n",
    "    now = datetime.datetime.now()\n",
    "    print(f\"📅 현재 날짜와 시간: {now.strftime('%Y-%m-%d %H:%M:%S')}\")\n",
    "\n",
    "    try:\n",
    "        birth_year = int(input(\"태어난 연도를 입력하세요 (예: 1995): \"))\n",
    "        current_year = now.year\n",
    "        age = current_year - birth_year\n",
    "        print(f\"🎂 당신의 나이는 {age}살입니다.\")\n",
    "    except ValueError:\n",
    "        print(\"❗ 숫자로 된 연도를 입력해주세요.\")\n",
    "\n",
    "# 실행\n",
    "age_calculator()"
   ]
  }
 ],
 "metadata": {
  "language_info": {
   "name": "python"
  }
 },
 "nbformat": 4,
 "nbformat_minor": 2
}
