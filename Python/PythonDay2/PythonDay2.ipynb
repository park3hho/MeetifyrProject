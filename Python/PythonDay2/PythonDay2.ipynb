{
 "cells": [
  {
   "cell_type": "markdown",
   "metadata": {
    "id": "WXEwMsfUct7U"
   },
   "source": [
    "안녕하세요.<br><br>\n",
    "수강생 여러분~! Chapter05 ~ 08 수업은 잘 들으셨나요?\n",
    "\n",
    "Chapter05 ~ 08의 수업 내용을 바탕으로 아래 문제를 풀어주시면 됩니다.\n",
    "\n",
    "<br>\n",
    "\n",
    "\n",
    "[**답변 입력 방법**]\n",
    "\n",
    "문제 아래에 있는 코드 입력창에 정답코드를 작성하신 후  __▷ 버튼을 클릭해 코드를 실행__ 해보세요<br>"
   ]
  },
  {
   "cell_type": "markdown",
   "metadata": {
    "id": "qoyC9wF-3hvs"
   },
   "source": [
    "-----"
   ]
  },
  {
   "cell_type": "markdown",
   "metadata": {},
   "source": [
    "__[문제0]__\n",
    "<br>\n",
    "\n",
    "##### 이전 과제에서 \"도전! 신비의 섬 탐험\" 을 변수를 이용해서 다시 풀어보세요 !!!!!\n",
    "\n"
   ]
  },
  {
   "cell_type": "markdown",
   "metadata": {
    "id": "rAD_O3Gmc_43"
   },
   "source": [
    "__[문제1]__\n",
    "\n",
    "<br>\n",
    "변수명 게임에 들어 있는 값 중 '홀'만 출력되도록 코드를 작성해 주세요\n",
    "\n",
    "game = \"홀짝홀짝홀짝\"\n",
    "\n",
    "출력 예시 : \"홀홀홀\"\n"
   ]
  },
  {
   "cell_type": "markdown",
   "metadata": {},
   "source": [
    "__Tips__\n",
    "- 문자열 슬라이싱을 이용해보세요 !"
   ]
  },
  {
   "cell_type": "code",
   "execution_count": 62,
   "metadata": {
    "id": "74wtVQFFc_h1"
   },
   "outputs": [
    {
     "name": "stdout",
     "output_type": "stream",
     "text": [
      "홀홀홀\n"
     ]
    }
   ],
   "source": [
    "game = \"홀짝홀짝홀짝\"\n",
    "\n",
    "print(game[::2])"
   ]
  },
  {
   "cell_type": "markdown",
   "metadata": {},
   "source": [
    "---"
   ]
  },
  {
   "cell_type": "markdown",
   "metadata": {
    "id": "3uK_auXYdgk2"
   },
   "source": [
    "__[문제2]__\n",
    "\n",
    "<br>\n",
    "\n",
    "변수명 전화번호에 들어 있는 번호를 모두 붙여서 출력되도록 코드를 작성해주세요.\n",
    "\n",
    "<br>\n",
    "\n",
    "phone = \"010-1234-5678\"\n",
    "\n",
    "출력 예시 : \"01012345678\""
   ]
  },
  {
   "cell_type": "markdown",
   "metadata": {},
   "source": [
    "__Tips__\n",
    "- split() 함수는 문자열을 특정 구분자를 기준으로 나누어 리스트로 반환합니다."
   ]
  },
  {
   "cell_type": "code",
   "execution_count": 63,
   "metadata": {
    "id": "9kvBxa6PdhgA"
   },
   "outputs": [
    {
     "name": "stdout",
     "output_type": "stream",
     "text": [
      "01012345678\n"
     ]
    }
   ],
   "source": [
    "phone=\"010-1234-5678\"\n",
    "Splited_Number = phone.split('-')\n",
    "Whole_Number = Splited_Number[0] + Splited_Number[1] + Splited_Number [2]\n",
    "\n",
    "print(Whole_Number)"
   ]
  },
  {
   "cell_type": "markdown",
   "metadata": {},
   "source": [
    "----"
   ]
  },
  {
   "cell_type": "markdown",
   "metadata": {},
   "source": [
    "<br>\n",
    "\n",
    "__[문제3]__\n",
    "\n",
    "<br>\n",
    "\n",
    "오즈 코딩 스쿨 백엔드 8기 과정에 참여한 수강생 중 5명의 수강생이 자율적으로 스터디 그룹을 결성했습니다.\n",
    "\n",
    "스터디 그룹 내에는 한 주간 배운 내용으로 매주 쪽지 시험을 보는 룰이 있습니다. \n",
    "\n",
    "이 쪽지 시험의 평균이 70점이 넘으면 주말 스터디는 없습니다. \n",
    "\n",
    "주말 스터디의 여부를 True 또는 False로 출력해주세요. \n",
    "\n",
    "<br>\n",
    "A: 70, B: 75, C: 50, D: 80, E: 60\n",
    "\n",
    "<br>"
   ]
  },
  {
   "cell_type": "code",
   "execution_count": 79,
   "metadata": {},
   "outputs": [
    {
     "name": "stdout",
     "output_type": "stream",
     "text": [
      "True\n",
      "True\n",
      "False, C should take Weekday_Study\n",
      "True\n",
      "False, E should take Weekday_Study\n"
     ]
    }
   ],
   "source": [
    "#DB\n",
    "Oz_C_BackEnd_8 = {\"A\": 70, \"B\": 75, \"C\": 50, \"D\": 80, \"E\": 60}\n",
    "\n",
    "#Service\n",
    "def Check_Machine_Score70():\n",
    "\n",
    "    for  key, i in Oz_C_BackEnd_8.items():\n",
    "        if i < 70 :\n",
    "            print(\"False, \" + key + \" should take Weekday_Study\")\n",
    "        else :\n",
    "            print(\"True\")\n",
    "\n",
    "#Excution\n",
    "Check_Machine_Score70()\n"
   ]
  },
  {
   "cell_type": "markdown",
   "metadata": {
    "id": "2Jte2VLKdiPm"
   },
   "source": [
    "__[문제4]__\n",
    "\n",
    "<br>\n",
    "\n",
    "창의성, 시장성, 안정성, 수익성에 대한 각각의 평가 중 아래 기준에 부합하지 못하면 창업지원을 받을 수 없습니다.\n",
    "\n",
    "- 수익성 60점 이상\n",
    "- 창의성과 시장성 50점 이상\n",
    "- 시장성과 수익성을 더한 값의 절반이 안정성 보다 높아야 함\n",
    "\n",
    "\n",
    "다음 점수가 입력되었을때 창업 지원이 가능한지 여부를 True 또는 False로 출력해주세요.\n",
    "\n",
    "---\n",
    "\n",
    "창의성 : 62\n",
    "시장성 : 71\n",
    "안정성 : 68\n",
    "수익성 : 66\n",
    "<br>\n",
    "\n",
    "* 참고\n",
    "(creativity ,\n",
    "marketability ,\n",
    "stability ,\n",
    "profitability )"
   ]
  },
  {
   "cell_type": "markdown",
   "metadata": {},
   "source": [
    "__Tips__\n",
    "* 비교 연산자와 논리 연산자의 결과를 고려해보아요"
   ]
  },
  {
   "cell_type": "code",
   "execution_count": null,
   "metadata": {
    "id": "XJhvRO-2djBh"
   },
   "outputs": [
    {
     "name": "stdout",
     "output_type": "stream",
     "text": [
      "You able to get a Startup_Backup Service!\n"
     ]
    }
   ],
   "source": [
    "Animal_Map_Project = { \"Creativity\" : 62, \"Marketability\" : 71, \"Stability\" : 68, \"Profitability\": 66}\n",
    "\n",
    "#기준점 통과시 0, 불통과시 1로 치환.\n",
    "C_Check = 0 \n",
    "M_Check = 0\n",
    "S_Check = 0\n",
    "P_Check = 0\n",
    "\n",
    "def Stratup_Backup(): #창업지원 가능 확인 기능\n",
    "\n",
    "    for key_s, value_s in Animal_Map_Project.items():\n",
    "\n",
    "        if key_s == \"Creativity\" : #점수 확인\n",
    "            if value_s < 60 :\n",
    "                print(\"Your Creativity Points is Low\")\n",
    "                global C_Check #전역 변수 설정 _ 아래에서 사용해야함.\n",
    "                C_Check = 1 #가능여부 치환\n",
    "\n",
    "        elif key_s == \"Marketability\" :\n",
    "            if value_s < 50 :\n",
    "                print(\"Your Marketability Points is Low\")\n",
    "                global M_Check\n",
    "                M_Check = 1\n",
    "            Marketability_Points = value_s\n",
    "\n",
    "        elif key_s == \"Stability\" :\n",
    "            if value_s < 50 :\n",
    "                print(\"Your Stability Points is Low\")  \n",
    "                global S_Check\n",
    "                S_Check = 1\n",
    "            Stability_Points = value_s \n",
    "\n",
    "        elif key_s == \"Profitability\" :\n",
    "            if (value_s + Marketability_Points)/2 < Stability_Points :\n",
    "                print(\"Your Profitability Points is Low.\")\n",
    "                global P_Check\n",
    "                P_Check = 1\n",
    "\n",
    "def Cong_Startup_Backup(): #창업 지원 가능 축하메세지\n",
    "    Stratup_Backup()\n",
    "    if C_Check + M_Check + S_Check + P_Check == 0 : \n",
    "        print(\"You able to get a Startup_Backup Service!\")\n",
    "        \n",
    "Cong_Startup_Backup()\n"
   ]
  },
  {
   "cell_type": "markdown",
   "metadata": {},
   "source": [
    "## 모험가들의 레벨업 도전\n",
    "\n",
    "### [배경 이야기]\n",
    "\n",
    "당신은 마법사, 전사, 도적, 힐러 네 명의 모험가를 이끄는 리더입니다. \n",
    "\n",
    "각 캐릭터는 힘, 민첩, 지능, 체력이라는 능력치를 가지고 있습니다. 이 능력치들을 이용해 다양한 도전을 해결하고 사냥을 통해 경험치를 얻어 레벨업을 해야 합니다.\n",
    "\n",
    "<br>\n",
    "\n",
    "### [동료 캐릭터와 능력치 정보]\n",
    "\n",
    "마법사: 힘(10), 민첩(20), 지능(80), 체력(50)\n",
    "\n",
    "전사: 힘(80), 민첩(30), 지능(20), 체력(100)\n",
    "\n",
    "도적: 힘(40), 민첩(80), 지능(30), 체력(60)\n",
    "\n",
    "힐러: 힘(20), 민첩(40), 지능(70), 체력(70)\n",
    "\n",
    "<br>\n",
    "\n",
    "* 변수명을 영어로 변경해서 풀어보세요 !"
   ]
  },
  {
   "cell_type": "markdown",
   "metadata": {},
   "source": [
    "<br>\n",
    "\n",
    "__[문제 1: 첫 번째 사냥]__\n",
    "\n",
    "마법사는 몬스터를 사냥하기 위해 마법을 사용합니다. \n",
    "\n",
    "마법을 사용하려면 지능이 50 이상이어야 합니다. \n",
    "\n",
    "마법사의 지능이 50 이상인지 확인하세요."
   ]
  },
  {
   "cell_type": "code",
   "execution_count": 9,
   "metadata": {},
   "outputs": [
    {
     "name": "stdout",
     "output_type": "stream",
     "text": [
      "80\n",
      "You are entitled to be a Mage.\n",
      "You are not a Mage! What a Liar\n",
      "You are not a Mage! What a Liar\n",
      "You are not a Mage! What a Liar\n",
      "You are not a Mage! What a Liar\n",
      "You are not a Mage! What a Liar\n",
      "You are not a Mage! What a Liar\n",
      "You are not a Mage! What a Liar\n",
      "You are not a Mage! What a Liar\n",
      "You are not a Mage! What a Liar\n",
      "You are not a Mage! What a Liar\n",
      "You are not a Mage! What a Liar\n",
      "You are not a Mage! What a Liar\n"
     ]
    }
   ],
   "source": [
    "characters = {\n",
    "    \"Mage\": {\n",
    "        \"Strength\": 10,\n",
    "        \"Agility\": 20,\n",
    "        \"Intelligence\": 80,\n",
    "        \"Stamina\": 50\n",
    "    },\n",
    "    \"Warrior\": {\n",
    "        \"Strength\": 80,\n",
    "        \"Agility\": 30,\n",
    "        \"Intelligence\": 20,\n",
    "        \"Stamina\": 100\n",
    "    },\n",
    "    \"Rogue\": {\n",
    "        \"Strength\": 40,\n",
    "        \"Agility\": 80,\n",
    "        \"Intelligence\": 30,\n",
    "        \"Stamina\": 60\n",
    "    },\n",
    "    \"Healer\": {\n",
    "        \"Strength\": 20,\n",
    "        \"Agility\": 40,\n",
    "        \"Intelligence\": 70,\n",
    "        \"Stamina\": 70\n",
    "    }\n",
    "}\n",
    "\n",
    "print(characters['Mage']['Intelligence'])\n",
    "\n",
    "def MICM(): #Mage_Intelligence_Check_Machine\n",
    "\n",
    "    for Job, Ability in characters.items(): \n",
    "        for Specific, Stats in Ability.items():\n",
    "            if Job != \"Mage\":\n",
    "                print(\"You are not a Mage! What a Liar\")\n",
    "            elif Specific == \"Intelligence\" and Stats > 50:\n",
    "                print(\"You are entitled to be a Mage.\")\n",
    "        \n",
    "MICM()\n",
    "            "
   ]
  },
  {
   "cell_type": "markdown",
   "metadata": {},
   "source": [
    "<br>\n",
    "\n",
    "__[문제 2: 두 번째 사냥]__\n",
    "\n",
    "전사는 강력한 공격을 하기 위해 자신의 힘을 사용합니다. \n",
    "\n",
    "전사의 힘이 60 이상이고 체력이 80 이상인지 확인하세요."
   ]
  },
  {
   "cell_type": "code",
   "execution_count": null,
   "metadata": {},
   "outputs": [
    {
     "name": "stdout",
     "output_type": "stream",
     "text": [
      "80\n",
      "The Warrior meets the conditions for a powerful attack.\n"
     ]
    }
   ],
   "source": [
    "characters = {\n",
    "    \"Mage\": {\n",
    "        \"Strength\": 10,\n",
    "        \"Agility\": 20,\n",
    "        \"Intelligence\": 80,\n",
    "        \"Stamina\": 50\n",
    "    },\n",
    "    \"Warrior\": {\n",
    "        \"Strength\": 80,\n",
    "        \"Agility\": 30,\n",
    "        \"Intelligence\": 20,\n",
    "        \"Stamina\": 100\n",
    "    },\n",
    "    \"Rogue\": {\n",
    "        \"Strength\": 40,\n",
    "        \"Agility\": 80,\n",
    "        \"Intelligence\": 30,\n",
    "        \"Stamina\": 60\n",
    "    },\n",
    "    \"Healer\": {\n",
    "        \"Strength\": 20,\n",
    "        \"Agility\": 40,\n",
    "        \"Intelligence\": 70,\n",
    "        \"Stamina\": 70\n",
    "    }\n",
    "}\n",
    "\n",
    "print(characters['Mage']['Intelligence'])\n",
    "\n",
    "\n",
    "def WICM(): #Warrior_Intelligence_Check_Machine\n",
    "\n",
    "    if characters[\"Warrior\"][\"Strength\"] >= 60 and characters[\"Warrior\"][\"Stamina\"] >= 80:\n",
    "        print(\"The Warrior meets the conditions for a powerful attack.\")\n",
    "    else:\n",
    "        print(\"The Warrior does not meet the conditions.\")\n",
    "        \n",
    "WICM()\n",
    "            "
   ]
  },
  {
   "cell_type": "markdown",
   "metadata": {},
   "source": [
    "<br>\n",
    "\n",
    "__[문제 3: 세 번째 사냥]__\n",
    "\n",
    "도적은 민첩함을 이용해 몬스터를 회피하고 공격합니다. \n",
    "\n",
    "도적의 민첩이 70 이상이거나 힘이 50 이상인지 확인하세요."
   ]
  },
  {
   "cell_type": "code",
   "execution_count": 22,
   "metadata": {},
   "outputs": [
    {
     "name": "stdout",
     "output_type": "stream",
     "text": [
      "GO X up\n"
     ]
    }
   ],
   "source": [
    "characters = {\n",
    "    \"Mage\": {\n",
    "        \"Strength\": 10,\n",
    "        \"Agility\": 20,\n",
    "        \"Intelligence\": 80,\n",
    "        \"Stamina\": 50\n",
    "    },\n",
    "    \"Warrior\": {\n",
    "        \"Strength\": 80,\n",
    "        \"Agility\": 30,\n",
    "        \"Intelligence\": 20,\n",
    "        \"Stamina\": 100\n",
    "    },\n",
    "    \"Rogue\": {\n",
    "        \"Strength\": 40,\n",
    "        \"Agility\": 80,\n",
    "        \"Intelligence\": 30,\n",
    "        \"Stamina\": 60\n",
    "    },\n",
    "    \"Healer\": {\n",
    "        \"Strength\": 20,\n",
    "        \"Agility\": 40,\n",
    "        \"Intelligence\": 70,\n",
    "        \"Stamina\": 70\n",
    "    }\n",
    "}\n",
    "\n",
    "\n",
    "def RICM(): #Rouge_Intelligence_Check_Machine\n",
    "    if characters[\"Rogue\"][\"Agility\"] >= 70 and characters[\"Rogue\"][\"Strength\"] >= 50 :\n",
    "        print(\"So You Should be a ROGUE NIGHT.\")\n",
    "    else :\n",
    "        print(\"GO X up\")\n",
    "        \n",
    "RICM()\n",
    "            "
   ]
  },
  {
   "cell_type": "markdown",
   "metadata": {},
   "source": [
    "<br>\n",
    "\n",
    "__[문제 4: 네 번째 사냥]__\n",
    "\n",
    "힐러는 파티의 체력을 회복시키기 위해 마법을 사용합니다. \n",
    "\n",
    "힐러의 지능이 60 이상이고, 체력이 50 이상인지 확인하세요."
   ]
  },
  {
   "cell_type": "code",
   "execution_count": 24,
   "metadata": {},
   "outputs": [
    {
     "name": "stdout",
     "output_type": "stream",
     "text": [
      "Your my Healer.\n"
     ]
    }
   ],
   "source": [
    "characters = {\n",
    "    \"Mage\": {\n",
    "        \"Strength\": 10,\n",
    "        \"Agility\": 20,\n",
    "        \"Intelligence\": 80,\n",
    "        \"Stamina\": 50\n",
    "    },\n",
    "    \"Warrior\": {\n",
    "        \"Strength\": 80,\n",
    "        \"Agility\": 30,\n",
    "        \"Intelligence\": 20,\n",
    "        \"Stamina\": 100\n",
    "    },\n",
    "    \"Rogue\": {\n",
    "        \"Strength\": 40,\n",
    "        \"Agility\": 80,\n",
    "        \"Intelligence\": 30,\n",
    "        \"Stamina\": 60\n",
    "    },\n",
    "    \"Healer\": {\n",
    "        \"Strength\": 20,\n",
    "        \"Agility\": 40,\n",
    "        \"Intelligence\": 70,\n",
    "        \"Stamina\": 70\n",
    "    }\n",
    "}\n",
    "\n",
    "\n",
    "def HICM(): #Healer_Intelligence_Check_Machine\n",
    "    if characters[\"Healer\"][\"Intelligence\"] >60 and characters[\"Healer\"][\"Stamina\"] > 50:\n",
    "        print(\"Your my Healer.\")\n",
    "\n",
    "\n",
    "HICM()\n",
    "            "
   ]
  },
  {
   "cell_type": "markdown",
   "metadata": {},
   "source": [
    "<br>\n",
    "\n",
    "__[문제 5: 레벨업]__\n",
    "\n",
    "모든 캐릭터가 사냥을 성공적으로 마쳤습니다. 이제 경험치를 얻어 레벨업을 해야 합니다. \n",
    "\n",
    "\n",
    "각 캐릭터의 경험치가 100 이상인지 print()를 이용해 확인해주세요.\n",
    "\n",
    "<br>\n",
    "\n",
    "경험치는 아래와 같습니다.\n",
    "\n",
    "마법사: 120\n",
    "\n",
    "전사: 150\n",
    "\n",
    "도적: 110\n",
    "\n",
    "힐러: 90\n",
    "\n"
   ]
  },
  {
   "cell_type": "code",
   "execution_count": 26,
   "metadata": {},
   "outputs": [
    {
     "name": "stdout",
     "output_type": "stream",
     "text": [
      "Mage: Yes You can\n",
      "Warrior: Yes You can\n",
      "Rouge: Yes You can\n",
      "Healer: You cannot levelup.\n"
     ]
    }
   ],
   "source": [
    "Experience_Points = { \n",
    "    \"Mage\": 120, \n",
    "    \"Warrior\": 150,\n",
    "    \"Rouge\": 110,\n",
    "    \"Healer\": 90\n",
    "}\n",
    "\n",
    "def Level_Up ():\n",
    "    for job, ep in Experience_Points.items():\n",
    "        if ep < 100:\n",
    "            print(f'{job}: You cannot levelup.')\n",
    "        elif ep > 100:\n",
    "            print(f'{job}: Yes You can')\n",
    "\n",
    "Level_Up()"
   ]
  }
 ],
 "metadata": {
  "colab": {
   "authorship_tag": "ABX9TyP7YKA5FdtGggYfD74V7SMJ",
   "provenance": []
  },
  "kernelspec": {
   "display_name": "Python 3",
   "name": "python3"
  },
  "language_info": {
   "codemirror_mode": {
    "name": "ipython",
    "version": 3
   },
   "file_extension": ".py",
   "mimetype": "text/x-python",
   "name": "python",
   "nbconvert_exporter": "python",
   "pygments_lexer": "ipython3",
   "version": "3.12.6"
  }
 },
 "nbformat": 4,
 "nbformat_minor": 0
}
